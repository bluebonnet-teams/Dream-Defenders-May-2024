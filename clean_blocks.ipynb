{
 "cells": [
  {
   "cell_type": "code",
   "execution_count": 44,
   "metadata": {},
   "outputs": [],
   "source": [
    "#pip install geopy"
   ]
  },
  {
   "cell_type": "code",
   "execution_count": 45,
   "metadata": {},
   "outputs": [],
   "source": [
    "#pip install geopandas"
   ]
  },
  {
   "cell_type": "code",
   "execution_count": 46,
   "metadata": {},
   "outputs": [],
   "source": [
    "#pip install xlrd"
   ]
  },
  {
   "cell_type": "code",
   "execution_count": 47,
   "metadata": {},
   "outputs": [],
   "source": [
    "import pandas as pd\n",
    "import numpy as np\n",
    "import json\n",
    "from geopy.distance import geodesic \n",
    "import geopandas as gpd\n",
    "import math"
   ]
  },
  {
   "cell_type": "code",
   "execution_count": 48,
   "metadata": {},
   "outputs": [],
   "source": [
    "df = pd.read_csv(\"Blocks Data - DD_sample_data.csv\")"
   ]
  },
  {
   "cell_type": "code",
   "execution_count": 49,
   "metadata": {},
   "outputs": [
    {
     "data": {
      "text/plain": [
       "(2127, 71)"
      ]
     },
     "execution_count": 49,
     "metadata": {},
     "output_type": "execute_result"
    }
   ],
   "source": [
    "df.shape"
   ]
  },
  {
   "cell_type": "code",
   "execution_count": 50,
   "metadata": {},
   "outputs": [],
   "source": [
    "df_zips = pd.read_excel(\"ZIP_Locale_Detail.xls\")\n",
    "#https://postalpro.usps.com/ZIP_Locale_Detail"
   ]
  },
  {
   "cell_type": "code",
   "execution_count": 51,
   "metadata": {},
   "outputs": [],
   "source": [
    "#import the county-zip mapping file (US Census)\n",
    "df_county = gpd.read_file(\"PVS_23_v2_ccd_12011.shp\")"
   ]
  },
  {
   "cell_type": "markdown",
   "metadata": {},
   "source": [
    "Streamline Zip Codes for location mapping"
   ]
  },
  {
   "cell_type": "code",
   "execution_count": 52,
   "metadata": {},
   "outputs": [],
   "source": [
    "#make sure all zips are 5 digit strings\n",
    "def zips(i):\n",
    "    y = str(i)\n",
    "    if len(y) == 3:\n",
    "        x = ''.join((\"00\",y))\n",
    "    elif len(y) == 4:\n",
    "        x = ''.join((\"0\",y))\n",
    "    else:\n",
    "        x = y\n",
    "    return x"
   ]
  },
  {
   "cell_type": "code",
   "execution_count": 53,
   "metadata": {},
   "outputs": [],
   "source": [
    "df_zips[\"PHYSICAL ZIP_CHANGE\"] = df_zips[\"PHYSICAL ZIP\"].apply(lambda x: zips(x))"
   ]
  },
  {
   "cell_type": "code",
   "execution_count": 54,
   "metadata": {},
   "outputs": [],
   "source": [
    "#convert extras from string to dictionary\n",
    "df['extras'] = df['extras'].apply(lambda x: json.loads(x))"
   ]
  },
  {
   "cell_type": "markdown",
   "metadata": {},
   "source": [
    "Create location fields for mapping and calculate distance between clean voting and collection location fields"
   ]
  },
  {
   "cell_type": "code",
   "execution_count": 55,
   "metadata": {},
   "outputs": [],
   "source": [
    "def concat(x,y):\n",
    "    if pd.isna(x):\n",
    "        x = 0\n",
    "    if pd.isna(y):\n",
    "        y = 0\n",
    "    return f\"{x},{y}\""
   ]
  },
  {
   "cell_type": "code",
   "execution_count": 56,
   "metadata": {},
   "outputs": [],
   "source": [
    "df['voting_location'] = df.apply(lambda row: concat(row['voting_address_latitude'], row['voting_address_longitude']), axis=1)"
   ]
  },
  {
   "cell_type": "code",
   "execution_count": 57,
   "metadata": {},
   "outputs": [],
   "source": [
    "df['collection_location'] = df.apply(lambda row: concat(row['collection_location_latitude'], row['collection_location_longitude']), axis=1)"
   ]
  },
  {
   "cell_type": "code",
   "execution_count": 58,
   "metadata": {},
   "outputs": [],
   "source": [
    "def dist(x, y):\n",
    "    return round(geodesic(eval(x),eval(y)).miles,1)\n"
   ]
  },
  {
   "cell_type": "code",
   "execution_count": 59,
   "metadata": {},
   "outputs": [],
   "source": [
    "#extract dictionary into df with separate columns for each key\n",
    "df_extras = df.extras.apply(pd.Series)"
   ]
  },
  {
   "cell_type": "code",
   "execution_count": 60,
   "metadata": {},
   "outputs": [],
   "source": [
    "#merge original df with dictionary df\n",
    "df_clean = pd.merge(right=df, left=df_extras, right_index = True, left_index=True)"
   ]
  },
  {
   "cell_type": "code",
   "execution_count": 111,
   "metadata": {},
   "outputs": [],
   "source": [
    "#merge with streamlined zip codes for voting location\n",
    "df_clean_location = pd.merge(left=df_clean, right=df_zips[[\"PHYSICAL ZIP\", \"PHYSICAL CITY\"]].drop_duplicates(subset=['PHYSICAL ZIP']), left_on = \"voting_zipcode\", right_on = \"PHYSICAL ZIP\",how='left')"
   ]
  },
  {
   "cell_type": "code",
   "execution_count": 113,
   "metadata": {},
   "outputs": [],
   "source": [
    "df_clean_location.rename(columns={\"PHYSICAL CITY\": \"voting_city_clean\"}, inplace=True)"
   ]
  },
  {
   "cell_type": "code",
   "execution_count": 114,
   "metadata": {},
   "outputs": [],
   "source": [
    "df_clean_location = df_clean_location.drop([\"PHYSICAL ZIP\"], axis=1)"
   ]
  },
  {
   "cell_type": "code",
   "execution_count": 132,
   "metadata": {},
   "outputs": [],
   "source": [
    "#merge with streamlined zip codes for collection location\n",
    "df_clean_location_ = pd.merge(left=df_clean_location, right=df_zips[[\"PHYSICAL ZIP\", \"PHYSICAL CITY\"]].drop_duplicates(subset=['PHYSICAL ZIP']), left_on = \"collection_location_zip\", right_on = \"PHYSICAL ZIP\", how=\"left\")"
   ]
  },
  {
   "cell_type": "code",
   "execution_count": 134,
   "metadata": {},
   "outputs": [],
   "source": [
    "df_clean_location_.rename(columns={\"PHYSICAL CITY\": \"collection_city_clean\"}, inplace=True)"
   ]
  },
  {
   "cell_type": "code",
   "execution_count": 135,
   "metadata": {},
   "outputs": [],
   "source": [
    "df_clean_location_[\"distance\"] = df_clean_location_.apply(lambda row: dist(row['voting_location'], row['collection_location']), axis=1)"
   ]
  },
  {
   "cell_type": "markdown",
   "metadata": {},
   "source": [
    "Clean up disparate versions for all dem fields extracted from Extras"
   ]
  },
  {
   "cell_type": "code",
   "execution_count": 67,
   "metadata": {},
   "outputs": [],
   "source": [
    "#combine gender columns\n",
    "gender_columns = [col for col in df_clean_location_.columns if 'gender' in col]"
   ]
  },
  {
   "cell_type": "code",
   "execution_count": 136,
   "metadata": {},
   "outputs": [],
   "source": [
    "df_clean_location_['gender_combined'] = df_clean_location_[gender_columns].bfill(axis=1).iloc[:, 0]"
   ]
  },
  {
   "cell_type": "code",
   "execution_count": 69,
   "metadata": {},
   "outputs": [],
   "source": [
    "#combine race columns\n",
    "race_columns = [col for col in df_clean_location_.columns if 'race' in col]"
   ]
  },
  {
   "cell_type": "code",
   "execution_count": 137,
   "metadata": {},
   "outputs": [],
   "source": [
    "df_clean_location_['race_combined']=df_clean_location_[race_columns].bfill(axis=1).iloc[:, 0]"
   ]
  },
  {
   "cell_type": "code",
   "execution_count": 71,
   "metadata": {},
   "outputs": [],
   "source": [
    "#combine birth location columns\n",
    "birth_combined = [col for col in df_clean_location_.columns if 'birth' in col]"
   ]
  },
  {
   "cell_type": "code",
   "execution_count": 138,
   "metadata": {},
   "outputs": [],
   "source": [
    "df_clean_location_['birthplace_combined']=df_clean_location_[birth_combined].bfill(axis=1).iloc[:, 0]"
   ]
  },
  {
   "cell_type": "code",
   "execution_count": 139,
   "metadata": {},
   "outputs": [],
   "source": [
    "df_clean_location_['gender']=df_clean_location_['gender_combined']\n",
    "df_clean_location_['race and ethnicity'] = df_clean_location_['race_combined']\n",
    "df_clean_location_['birthplace'] = df_clean_location_['birthplace_combined']\n",
    "df_clean_location_.drop(columns=['gender_combined', 'race_combined','birthplace_combined'], inplace=True)"
   ]
  },
  {
   "cell_type": "markdown",
   "metadata": {},
   "source": [
    "Clean up County Columns"
   ]
  },
  {
   "cell_type": "code",
   "execution_count": 74,
   "metadata": {},
   "outputs": [],
   "source": [
    "#create a clean lookup file (Zip Codes to Counties)\n",
    "df_zips_counties = pd.read_csv(\"Zips and Counties - Sheet1.csv\", header=None, names=[\"data\"])"
   ]
  },
  {
   "cell_type": "code",
   "execution_count": 75,
   "metadata": {},
   "outputs": [],
   "source": [
    "df_zips_counties['zips_filter']=df_zips_counties['data'].str.isnumeric()\n",
    "df_zips_counties['counties_filter']=df_zips_counties['data'].str.contains(\" County\")\n",
    "\n",
    "zips = df_zips_counties[df_zips_counties['zips_filter']==True]\n",
    "counties = df_zips_counties[df_zips_counties['counties_filter']==True]\n"
   ]
  },
  {
   "cell_type": "code",
   "execution_count": 76,
   "metadata": {},
   "outputs": [],
   "source": [
    "# combine zips and counties \n",
    "zips.reset_index(drop=True, inplace=True)\n",
    "counties.reset_index(drop=True, inplace=True)\n",
    "df_zips_counties_combined = pd.concat([zips,counties], axis=1)"
   ]
  },
  {
   "cell_type": "code",
   "execution_count": 77,
   "metadata": {},
   "outputs": [],
   "source": [
    "df_zips_counties_combined.columns.values[0]='zip_code'\n",
    "df_zips_counties_combined.columns.values[3]='county'"
   ]
  },
  {
   "cell_type": "code",
   "execution_count": 78,
   "metadata": {},
   "outputs": [],
   "source": [
    "df_zips_counties_combined['zip_code']=df_zips_counties_combined['zip_code'].astype(float)"
   ]
  },
  {
   "cell_type": "code",
   "execution_count": 143,
   "metadata": {},
   "outputs": [],
   "source": [
    "#apply clean zip code file to full dataset\n",
    "df_clean_location__ = pd.merge(left=df_clean_location_, right=df_zips_counties_combined, left_on = \"voting_zipcode\", right_on = \"zip_code\",how='left')"
   ]
  },
  {
   "cell_type": "code",
   "execution_count": 145,
   "metadata": {},
   "outputs": [],
   "source": [
    "df_clean_location__.rename(columns={\"county\": \"voting_county\"}, inplace=True)"
   ]
  },
  {
   "cell_type": "code",
   "execution_count": 146,
   "metadata": {},
   "outputs": [],
   "source": [
    "df_clean_location__['voting_street_address_one'] = df_clean_location__['voting_county']\n",
    "\n",
    "df_clean_location__.drop(columns=[\n",
    "  'zip_code', 'zips_filter',\n",
    "       'counties_filter', 'voting_county', 'zips_filter', 'counties_filter'], inplace=True)"
   ]
  },
  {
   "cell_type": "code",
   "execution_count": 147,
   "metadata": {},
   "outputs": [],
   "source": [
    "#create csv\n",
    "df_clean_location__.to_csv(\"clean_blocks_.csv\", index=False)"
   ]
  }
 ],
 "metadata": {
  "kernelspec": {
   "display_name": "Python 3",
   "language": "python",
   "name": "python3"
  },
  "language_info": {
   "codemirror_mode": {
    "name": "ipython",
    "version": 3
   },
   "file_extension": ".py",
   "mimetype": "text/x-python",
   "name": "python",
   "nbconvert_exporter": "python",
   "pygments_lexer": "ipython3",
   "version": "3.9.6"
  }
 },
 "nbformat": 4,
 "nbformat_minor": 2
}
