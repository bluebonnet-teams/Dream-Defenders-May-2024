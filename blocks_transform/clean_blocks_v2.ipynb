{
 "cells": [
  {
   "cell_type": "code",
   "execution_count": 1,
   "metadata": {},
   "outputs": [],
   "source": [
    "#pip install geopy"
   ]
  },
  {
   "cell_type": "code",
   "execution_count": 2,
   "metadata": {},
   "outputs": [],
   "source": [
    "#pip install geopandas"
   ]
  },
  {
   "cell_type": "code",
   "execution_count": 3,
   "metadata": {},
   "outputs": [],
   "source": [
    "#pip install xlrd"
   ]
  },
  {
   "cell_type": "code",
   "execution_count": 4,
   "metadata": {},
   "outputs": [
    {
     "name": "stderr",
     "output_type": "stream",
     "text": [
      "/Users/polinaminkovski/Library/Python/3.9/lib/python/site-packages/urllib3/__init__.py:35: NotOpenSSLWarning: urllib3 v2 only supports OpenSSL 1.1.1+, currently the 'ssl' module is compiled with 'LibreSSL 2.8.3'. See: https://github.com/urllib3/urllib3/issues/3020\n",
      "  warnings.warn(\n"
     ]
    }
   ],
   "source": [
    "import pandas as pd\n",
    "import numpy as np\n",
    "import json\n",
    "from geopy.distance import geodesic \n",
    "import geopandas as gpd\n",
    "import math"
   ]
  },
  {
   "cell_type": "code",
   "execution_count": 5,
   "metadata": {},
   "outputs": [],
   "source": [
    "df = pd.read_csv(\"archive data files/Blocks Data - DD_sample_data.csv\")"
   ]
  },
  {
   "cell_type": "code",
   "execution_count": 6,
   "metadata": {},
   "outputs": [
    {
     "data": {
      "text/plain": [
       "(2127, 71)"
      ]
     },
     "execution_count": 6,
     "metadata": {},
     "output_type": "execute_result"
    }
   ],
   "source": [
    "df.shape"
   ]
  },
  {
   "cell_type": "code",
   "execution_count": 7,
   "metadata": {},
   "outputs": [],
   "source": [
    "df_zips = pd.read_excel(\"ZIP_Locale_Detail.xls\")\n",
    "#https://postalpro.usps.com/ZIP_Locale_Detail"
   ]
  },
  {
   "cell_type": "code",
   "execution_count": 8,
   "metadata": {},
   "outputs": [],
   "source": [
    "#import the county-zip mapping file (US Census)\n",
    "#df_county = gpd.read_file(\"PVS_23_v2_ccd_12011.shp\")"
   ]
  },
  {
   "cell_type": "code",
   "execution_count": 9,
   "metadata": {},
   "outputs": [],
   "source": [
    "df_lon_lat = pd.read_csv(\"uszips.csv\")\n",
    "#https://simplemaps.com/data/us-zips"
   ]
  },
  {
   "cell_type": "markdown",
   "metadata": {},
   "source": [
    "Streamline Zip Codes for location mapping"
   ]
  },
  {
   "cell_type": "code",
   "execution_count": 10,
   "metadata": {},
   "outputs": [],
   "source": [
    "#make sure all zips are 5 digit strings\n",
    "def zips(i):\n",
    "    y = str(i).rstrip('.0')\n",
    "    if len(y) == 3:\n",
    "        x = ''.join((\"00\",y))\n",
    "    elif len(y) == 4:\n",
    "        x = ''.join((\"0\",y))\n",
    "    elif len(y) == 2:\n",
    "        x = ''.join((y,\"000\"))\n",
    "    elif len(y) == 1:\n",
    "        x = ''.join((y,\"0000\"))\n",
    "    else:\n",
    "        x = y\n",
    "    return x"
   ]
  },
  {
   "cell_type": "code",
   "execution_count": 11,
   "metadata": {},
   "outputs": [],
   "source": [
    "#make sure all zips in blocks data file are 5 digits (will append 0s to the end, since these are all Florida zips)\n",
    "def zips_(i):\n",
    "    y = str(i).rstrip('.0')\n",
    "    if len(y) == 3:\n",
    "        x = ''.join((y,\"00\"))\n",
    "    elif len(y) == 4:\n",
    "        x = ''.join((y,\"0\"))\n",
    "    elif len(y) == 2:\n",
    "        x = ''.join((y,\"000\"))\n",
    "    elif len(y) == 1:\n",
    "        x = ''.join((y,\"0000\"))\n",
    "    else:\n",
    "        x = y\n",
    "    return str(x)"
   ]
  },
  {
   "cell_type": "code",
   "execution_count": 12,
   "metadata": {},
   "outputs": [],
   "source": [
    "df_zips[\"PHYSICAL ZIP_CHANGE\"] = df_zips[\"PHYSICAL ZIP\"].apply(lambda x: zips(x))"
   ]
  },
  {
   "cell_type": "code",
   "execution_count": 13,
   "metadata": {},
   "outputs": [],
   "source": [
    "df['voting_zip_change']=df['voting_zipcode'].apply(lambda x: zips_(x))"
   ]
  },
  {
   "cell_type": "code",
   "execution_count": 14,
   "metadata": {},
   "outputs": [],
   "source": [
    "df['collection_location_zip_change']=df['collection_location_zip'].apply(lambda x: zips_(x) )"
   ]
  },
  {
   "cell_type": "code",
   "execution_count": 15,
   "metadata": {},
   "outputs": [],
   "source": [
    "#convert extras from string to dictionary\n",
    "df['extras'] = df['extras'].apply(lambda x: json.loads(x))"
   ]
  },
  {
   "cell_type": "markdown",
   "metadata": {},
   "source": [
    "Create location fields for mapping and calculate distance between clean voting and collection location fields"
   ]
  },
  {
   "cell_type": "code",
   "execution_count": 16,
   "metadata": {},
   "outputs": [],
   "source": [
    "def concat(x,y):\n",
    "    if pd.isna(x):\n",
    "        x = 0\n",
    "    if pd.isna(y):\n",
    "        y = 0\n",
    "    return f\"{x},{y}\""
   ]
  },
  {
   "cell_type": "code",
   "execution_count": 17,
   "metadata": {},
   "outputs": [],
   "source": [
    "#create a lat/lon field in the reference file\n",
    "df_lon_lat['location']=df_lon_lat.apply(lambda row: concat(row['lat'], row['lng']), axis=1)"
   ]
  },
  {
   "cell_type": "code",
   "execution_count": 18,
   "metadata": {},
   "outputs": [],
   "source": [
    "df['voting_location'] = df.apply(lambda row: concat(row['voting_address_latitude'], row['voting_address_longitude']), axis=1)"
   ]
  },
  {
   "cell_type": "code",
   "execution_count": 19,
   "metadata": {},
   "outputs": [],
   "source": [
    "df_lon_lat['zip']=df_lon_lat['zip'].astype(str)"
   ]
  },
  {
   "cell_type": "code",
   "execution_count": 20,
   "metadata": {},
   "outputs": [],
   "source": [
    "df = pd.merge(df,df_lon_lat[['zip','location']],left_on='voting_zip_change',right_on=\"zip\")"
   ]
  },
  {
   "cell_type": "code",
   "execution_count": 21,
   "metadata": {},
   "outputs": [
    {
     "data": {
      "text/plain": [
       "Index(['voter_registration_scan_id', 'upload_time',\n",
       "       'voter_registration_scan_updated_at', 'visual_qc_county',\n",
       "       'is_registration_form', 'registration_form_id', 'registration_type',\n",
       "       'first_name', 'middle_name', 'last_name', 'name_suffix',\n",
       "       'voting_street_address_one', 'voting_street_address_two', 'voting_city',\n",
       "       'voting_state', 'voting_zipcode', 'mailing_street_address_one',\n",
       "       'mailing_street_address_two', 'mailing_city', 'mailing_zipcode',\n",
       "       'data_entry_county', 'gender', 'date_of_birth', 'identification',\n",
       "       'phone_number', 'email_address', 'eligible_voting_age', 'signature',\n",
       "       'extras', 'data_entry_time', 'data_entry_updated_at', 'party',\n",
       "       'name_prefix', 'ethnicity', 'voting_address_latitude',\n",
       "       'voting_address_longitude', 'distance_from_location',\n",
       "       'address_validated', 'shift_id', 'shift_start', 'shift_end',\n",
       "       'field_start', 'field_end', 'visual_qc_completed_by_user_id',\n",
       "       'phone_verification_completed_by_user_id', 'through_visual_qc',\n",
       "       'has_phone_number_visual_qc', 'qc_organization',\n",
       "       'voter_registration_scan_batches_id', 'packet_filename', 'qc_deadline',\n",
       "       'canvasser_id', 'canvasser_first_name', 'canvasser_last_name',\n",
       "       'turf_id', 'name', 'van_committee_id', 'organization_name',\n",
       "       'collective_name', 'program_state', 'collection_location_id',\n",
       "       'collection_location_name', 'collection_location_street_address',\n",
       "       'collection_location_city', 'collection_location_state',\n",
       "       'collection_location_zip', 'collection_location_county',\n",
       "       'collection_location_latitude', 'collection_location_longitude',\n",
       "       'phone_verified', 'bad_number', 'voting_zip_change',\n",
       "       'collection_location_zip_change', 'voting_location', 'zip', 'location'],\n",
       "      dtype='object')"
      ]
     },
     "execution_count": 21,
     "metadata": {},
     "output_type": "execute_result"
    }
   ],
   "source": [
    "df.columns"
   ]
  },
  {
   "cell_type": "code",
   "execution_count": 22,
   "metadata": {},
   "outputs": [],
   "source": [
    "#map lat/lon for missing lat/lon fields in voting location\n",
    "df['voting_location_modified']=np.where(df['voting_location']=='0,0',df['location'],df['voting_location'])"
   ]
  },
  {
   "cell_type": "code",
   "execution_count": 23,
   "metadata": {},
   "outputs": [],
   "source": [
    "df['collection_location'] = df.apply(lambda row: concat(row['collection_location_latitude'], row['collection_location_longitude']), axis=1)"
   ]
  },
  {
   "cell_type": "code",
   "execution_count": 24,
   "metadata": {},
   "outputs": [],
   "source": [
    "def dist(x, y):\n",
    "    return round(geodesic(eval(x),eval(y)).miles,1)\n"
   ]
  },
  {
   "cell_type": "code",
   "execution_count": 25,
   "metadata": {},
   "outputs": [],
   "source": [
    "#extract dictionary into df with separate columns for each key\n",
    "df_extras = df.extras.apply(pd.Series)"
   ]
  },
  {
   "cell_type": "code",
   "execution_count": 26,
   "metadata": {},
   "outputs": [],
   "source": [
    "#merge original df with dictionary df\n",
    "df_clean = pd.merge(right=df, left=df_extras, right_index = True, left_index=True)"
   ]
  },
  {
   "cell_type": "code",
   "execution_count": 27,
   "metadata": {},
   "outputs": [],
   "source": [
    "#merge with streamlined zip codes for voting location\n",
    "df_clean_location = pd.merge(left=df_clean, right=df_zips[[\"PHYSICAL ZIP_CHANGE\", \"PHYSICAL CITY\"]].drop_duplicates(subset=['PHYSICAL ZIP_CHANGE']), left_on = \"voting_zip_change\", right_on = \"PHYSICAL ZIP_CHANGE\",how='left')"
   ]
  },
  {
   "cell_type": "code",
   "execution_count": 28,
   "metadata": {},
   "outputs": [],
   "source": [
    "df_clean_location.rename(columns={\"PHYSICAL CITY\": \"voting_city_clean\"}, inplace=True)"
   ]
  },
  {
   "cell_type": "code",
   "execution_count": 29,
   "metadata": {},
   "outputs": [],
   "source": [
    "df_clean_location = df_clean_location.drop([\"PHYSICAL ZIP_CHANGE\"], axis=1)"
   ]
  },
  {
   "cell_type": "code",
   "execution_count": 30,
   "metadata": {},
   "outputs": [],
   "source": [
    "#merge with streamlined zip codes for collection location\n",
    "df_clean_location_ = pd.merge(left=df_clean_location, right=df_zips[[\"PHYSICAL ZIP_CHANGE\", \"PHYSICAL CITY\"]].drop_duplicates(subset=['PHYSICAL ZIP_CHANGE']), left_on = \"collection_location_zip_change\", right_on = \"PHYSICAL ZIP_CHANGE\", how=\"left\")"
   ]
  },
  {
   "cell_type": "code",
   "execution_count": 31,
   "metadata": {},
   "outputs": [],
   "source": [
    "df_clean_location_.rename(columns={\"PHYSICAL CITY\": \"collection_city_clean\"}, inplace=True)"
   ]
  },
  {
   "cell_type": "code",
   "execution_count": 32,
   "metadata": {},
   "outputs": [],
   "source": [
    "df_clean_location_[\"distance\"] = df_clean_location_.apply(lambda row: dist(row['voting_location_modified'], row['collection_location']), axis=1)"
   ]
  },
  {
   "cell_type": "markdown",
   "metadata": {},
   "source": [
    "Clean up disparate versions for all dem fields extracted from Extras"
   ]
  },
  {
   "cell_type": "code",
   "execution_count": 33,
   "metadata": {},
   "outputs": [],
   "source": [
    "#combine gender columns\n",
    "gender_columns = [col for col in df_clean_location_.columns if 'gender' in col]"
   ]
  },
  {
   "cell_type": "code",
   "execution_count": 34,
   "metadata": {},
   "outputs": [],
   "source": [
    "df_clean_location_['gender_combined'] = df_clean_location_[gender_columns].bfill(axis=1).iloc[:, 0]"
   ]
  },
  {
   "cell_type": "code",
   "execution_count": 35,
   "metadata": {},
   "outputs": [],
   "source": [
    "#combine race columns\n",
    "race_columns = [col for col in df_clean_location_.columns if 'race' in col]"
   ]
  },
  {
   "cell_type": "code",
   "execution_count": 36,
   "metadata": {},
   "outputs": [],
   "source": [
    "df_clean_location_['race_combined']=df_clean_location_[race_columns].bfill(axis=1).iloc[:, 0]"
   ]
  },
  {
   "cell_type": "code",
   "execution_count": 37,
   "metadata": {},
   "outputs": [],
   "source": [
    "#combine birth location columns\n",
    "birth_combined = [col for col in df_clean_location_.columns if 'birth' in col]"
   ]
  },
  {
   "cell_type": "code",
   "execution_count": 38,
   "metadata": {},
   "outputs": [],
   "source": [
    "df_clean_location_['birthplace_combined']=df_clean_location_[birth_combined].bfill(axis=1).iloc[:, 0]"
   ]
  },
  {
   "cell_type": "code",
   "execution_count": 39,
   "metadata": {},
   "outputs": [],
   "source": [
    "df_clean_location_['gender']=df_clean_location_['gender_combined']\n",
    "df_clean_location_['race and ethnicity'] = df_clean_location_['race_combined']\n",
    "df_clean_location_['birthplace'] = df_clean_location_['birthplace_combined']\n",
    "df_clean_location_.drop(columns=['gender_combined', 'race_combined','birthplace_combined'], inplace=True)"
   ]
  },
  {
   "cell_type": "markdown",
   "metadata": {},
   "source": [
    "Clean up County Columns"
   ]
  },
  {
   "cell_type": "code",
   "execution_count": 40,
   "metadata": {},
   "outputs": [],
   "source": [
    "#create a clean lookup file (Zip Codes to Counties)\n",
    "#https://www.unitedstateszipcodes.org/fl/\n",
    "df_zips_counties = pd.read_csv(\"Zips and Counties - Sheet1.csv\", header=None, names=[\"data\"])\n"
   ]
  },
  {
   "cell_type": "code",
   "execution_count": 41,
   "metadata": {},
   "outputs": [],
   "source": [
    "df_zips_counties['zips_filter']=df_zips_counties['data'].str.isnumeric()\n",
    "df_zips_counties['counties_filter']=df_zips_counties['data'].str.contains(\" County\")\n",
    "\n",
    "zips = df_zips_counties[df_zips_counties['zips_filter']==True]\n",
    "counties = df_zips_counties[df_zips_counties['counties_filter']==True]\n"
   ]
  },
  {
   "cell_type": "code",
   "execution_count": 42,
   "metadata": {},
   "outputs": [],
   "source": [
    "# combine zips and counties \n",
    "zips.reset_index(drop=True, inplace=True)\n",
    "counties.reset_index(drop=True, inplace=True)\n",
    "df_zips_counties_combined = pd.concat([zips,counties], axis=1)"
   ]
  },
  {
   "cell_type": "code",
   "execution_count": 43,
   "metadata": {},
   "outputs": [],
   "source": [
    "df_zips_counties_combined.columns.values[0]='zip_code'\n",
    "df_zips_counties_combined.columns.values[3]='county'"
   ]
  },
  {
   "cell_type": "code",
   "execution_count": 44,
   "metadata": {},
   "outputs": [],
   "source": [
    "#df_zips_counties_combined['zip_code']=df_zips_counties_combined['zip_code'].astype(float)"
   ]
  },
  {
   "cell_type": "code",
   "execution_count": 45,
   "metadata": {},
   "outputs": [],
   "source": [
    "#apply clean zip code file to full dataset\n",
    "df_clean_location__ = pd.merge(left=df_clean_location_, right=df_zips_counties_combined, left_on = \"voting_zip_change\", right_on = \"zip_code\",how='left')"
   ]
  },
  {
   "cell_type": "code",
   "execution_count": 46,
   "metadata": {},
   "outputs": [],
   "source": [
    "df_clean_location__.rename(columns={\"county\": \"voting_county\"}, inplace=True)\n",
    "df_clean_location__.rename(columns={'PHYSICAL ZIP_CHANGE':'PHYSICAL_ZIP'}, inplace=True)"
   ]
  },
  {
   "cell_type": "code",
   "execution_count": 47,
   "metadata": {},
   "outputs": [],
   "source": [
    "df_clean_location__['voting_street_address_one'] = df_clean_location__['voting_county']\n",
    "df_clean_location__['voting_zipcode'] = df_clean_location__['voting_zip_change']\n",
    "df_clean_location__['voting_location'] = df_clean_location__['voting_location_modified']\n",
    "df_clean_location__['collection_location_zip'] = df_clean_location__['collection_location_zip_change']\n",
    "\n",
    "df_clean_location__.drop(columns=[\n",
    "    'zip_code', 'zips_filter',\n",
    "        'counties_filter', 'voting_county', 'zips_filter', 'counties_filter','zip_x','location_x',\n",
    "        'zip_y','location_y','voting_location_modified','collection_location_zip_change','voting_zip_change'], inplace=True)"
   ]
  },
  {
   "cell_type": "code",
   "execution_count": 48,
   "metadata": {},
   "outputs": [],
   "source": [
    "#create csv\n",
    "df_clean_location__.to_csv(\"clean_blocks_.csv\", index=False)"
   ]
  }
 ],
 "metadata": {
  "kernelspec": {
   "display_name": "Python 3",
   "language": "python",
   "name": "python3"
  },
  "language_info": {
   "codemirror_mode": {
    "name": "ipython",
    "version": 3
   },
   "file_extension": ".py",
   "mimetype": "text/x-python",
   "name": "python",
   "nbconvert_exporter": "python",
   "pygments_lexer": "ipython3",
   "version": "3.9.6"
  }
 },
 "nbformat": 4,
 "nbformat_minor": 2
}
